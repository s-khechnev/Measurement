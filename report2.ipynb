{
 "cells": [
  {
   "cell_type": "markdown",
   "id": "805302ee",
   "metadata": {},
   "source": [
    "# Отчёт\n",
    "## Эксперимент проводился на ноутбуке Lenovo IdeaPad Gaming 3 15ARH05\n",
    "- OS: ubuntu 20.04\n",
    "- CPU: AMD Ryzen 5 4600H\n",
    "- RAM: 16 GiB\n",
    "\n",
    "Перед замерами были закрыты все посторонние программы. Ноутбук подключен к питанию. Очисщен кэш. Частота процессора выставлена на максимум."
   ]
  },
  {
   "cell_type": "code",
   "execution_count": 31,
   "id": "27cf0d70",
   "metadata": {},
   "outputs": [],
   "source": [
    "from scipy import stats\n",
    "import numpy as np\n",
    "import matplotlib.pyplot as plt"
   ]
  },
  {
   "cell_type": "code",
   "execution_count": 32,
   "id": "c2f33fec",
   "metadata": {
    "scrolled": false
   },
   "outputs": [
    {
     "name": "stdout",
     "output_type": "stream",
     "text": [
      "[5776, 5766, 5764, 5779, 5772, 5766, 5764, 5763, 5769, 5773, 5760, 5757, 5763, 5780, 5772, 5768, 5760, 5774, 5773, 5774, 5775, 5769, 5766, 5770, 5764, 5768, 5763, 5757, 5760, 5765, 5772, 5775, 5769, 5771, 5758, 5766, 5767, 5775, 5783, 5774]\n"
     ]
    }
   ],
   "source": [
    "with open(\"out2\") as file:\n",
    "    t = [int(x) for x in file]\n",
    "print(t)"
   ]
  },
  {
   "cell_type": "markdown",
   "id": "6f8e438b",
   "metadata": {},
   "source": [
    "### Гистограмма"
   ]
  },
  {
   "cell_type": "code",
   "execution_count": 33,
   "id": "30b5c332",
   "metadata": {
    "scrolled": false
   },
   "outputs": [
    {
     "data": {
      "text/plain": [
       "(array([3., 3., 6., 6., 5., 5., 8., 1., 2., 1.]),\n",
       " array([5757. , 5759.6, 5762.2, 5764.8, 5767.4, 5770. , 5772.6, 5775.2,\n",
       "        5777.8, 5780.4, 5783. ]),\n",
       " <BarContainer object of 10 artists>)"
      ]
     },
     "execution_count": 33,
     "metadata": {},
     "output_type": "execute_result"
    },
    {
     "data": {
      "image/png": "[encoded data removed]",
      "text/plain": [
       "<Figure size 640x480 with 1 Axes>"
      ]
     },
     "metadata": {},
     "output_type": "display_data"
    }
   ],
   "source": [
    "plt.hist(t)"
   ]
  },
  {
   "cell_type": "markdown",
   "id": "a29a6802",
   "metadata": {},
   "source": [
    "### Тест на нормальнось\n",
    "#### pvalue > 0.05. ОК"
   ]
  },
  {
   "cell_type": "code",
   "execution_count": 34,
   "id": "1978c62e",
   "metadata": {},
   "outputs": [
    {
     "data": {
      "text/plain": [
       "NormaltestResult(statistic=0.516593466138503, pvalue=0.7723660115627555)"
      ]
     },
     "execution_count": 34,
     "metadata": {},
     "output_type": "execute_result"
    }
   ],
   "source": [
    "stats.normaltest(t)"
   ]
  },
  {
   "cell_type": "code",
   "execution_count": 35,
   "id": "f4c64f0c",
   "metadata": {},
   "outputs": [
    {
     "data": {
      "text/plain": [
       "ShapiroResult(statistic=0.980587363243103, pvalue=0.7113425135612488)"
      ]
     },
     "execution_count": 35,
     "metadata": {},
     "output_type": "execute_result"
    }
   ],
   "source": [
    "stats.shapiro(t)"
   ]
  },
  {
   "cell_type": "markdown",
   "id": "2b0432ae",
   "metadata": {},
   "source": [
    "### Среднее"
   ]
  },
  {
   "cell_type": "code",
   "execution_count": 36,
   "id": "8471a6e0",
   "metadata": {},
   "outputs": [
    {
     "name": "stdout",
     "output_type": "stream",
     "text": [
      "5768.5\n"
     ]
    }
   ],
   "source": [
    "mean = np.mean(t)\n",
    "print(mean)"
   ]
  },
  {
   "cell_type": "markdown",
   "id": "9d4a2d60",
   "metadata": {},
   "source": [
    "### Стандартное отклонение"
   ]
  },
  {
   "cell_type": "code",
   "execution_count": 37,
   "id": "bc00fcf3",
   "metadata": {
    "scrolled": true
   },
   "outputs": [
    {
     "name": "stdout",
     "output_type": "stream",
     "text": [
      "6.397114734243628\n"
     ]
    }
   ],
   "source": [
    "std = np.std(t, ddof = 1)\n",
    "print(std)"
   ]
  },
  {
   "cell_type": "markdown",
   "id": "310b1462",
   "metadata": {},
   "source": [
    "### Стандартное отклонение среднего"
   ]
  },
  {
   "cell_type": "code",
   "execution_count": 38,
   "id": "737e30f2",
   "metadata": {},
   "outputs": [
    {
     "name": "stdout",
     "output_type": "stream",
     "text": [
      "1.01147265068163\n"
     ]
    }
   ],
   "source": [
    "std_mean = std / (len(t) ** 0.5)\n",
    "print(std_mean)"
   ]
  },
  {
   "cell_type": "markdown",
   "id": "23816219",
   "metadata": {},
   "source": [
    "### 2 с.о"
   ]
  },
  {
   "cell_type": "code",
   "execution_count": 39,
   "id": "17fdc3bd",
   "metadata": {},
   "outputs": [
    {
     "data": {
      "text/plain": [
       "12.794229468487256"
      ]
     },
     "execution_count": 39,
     "metadata": {},
     "output_type": "execute_result"
    }
   ],
   "source": [
    "2 * std"
   ]
  },
  {
   "cell_type": "markdown",
   "id": "4cd177ce",
   "metadata": {},
   "source": [
    "### 2 c.o.c"
   ]
  },
  {
   "cell_type": "code",
   "execution_count": 40,
   "id": "abbff498",
   "metadata": {},
   "outputs": [
    {
     "data": {
      "text/plain": [
       "2.02294530136326"
      ]
     },
     "execution_count": 40,
     "metadata": {},
     "output_type": "execute_result"
    }
   ],
   "source": [
    "2 * std_mean"
   ]
  },
  {
   "cell_type": "markdown",
   "id": "951c9f7d",
   "metadata": {},
   "source": [
    "### Предсказывающий интервал"
   ]
  },
  {
   "cell_type": "markdown",
   "id": "80ee87ba",
   "metadata": {},
   "source": [
    "Округляем 2 с.о: 13"
   ]
  },
  {
   "cell_type": "markdown",
   "id": "62eabd8a",
   "metadata": {},
   "source": [
    "Интервал: 5768 +- 13"
   ]
  },
  {
   "cell_type": "markdown",
   "id": "d18d50d1",
   "metadata": {},
   "source": [
    "### Доверительный интервал"
   ]
  },
  {
   "cell_type": "markdown",
   "id": "59fc0d98",
   "metadata": {},
   "source": [
    "Округляем 2 с.о.с: 2"
   ]
  },
  {
   "cell_type": "markdown",
   "id": "e0035b9e",
   "metadata": {},
   "source": [
    "Интервал: 5768 +- 2"
   ]
  },
  {
   "cell_type": "code",
   "execution_count": null,
   "id": "dad16ae3",
   "metadata": {},
   "outputs": [],
   "source": []
  }
 ],
 "metadata": {
  "kernelspec": {
   "display_name": "Python 3 (ipykernel)",
   "language": "python",
   "name": "python3"
  },
  "language_info": {
   "codemirror_mode": {
    "name": "ipython",
    "version": 3
   },
   "file_extension": ".py",
   "mimetype": "text/x-python",
   "name": "python",
   "nbconvert_exporter": "python",
   "pygments_lexer": "ipython3",
   "version": "3.10.6"
  }
 },
 "nbformat": 4,
 "nbformat_minor": 5
}
