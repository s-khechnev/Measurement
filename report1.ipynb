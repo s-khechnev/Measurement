{
 "cells": [
  {
   "cell_type": "markdown",
   "id": "805302ee",
   "metadata": {},
   "source": [
    "# Отчёт\n",
    "## Эксперимент проводился на ноутбуке Lenovo IdeaPad Gaming 3 15ARH05\n",
    "- OS: ubuntu 20.04\n",
    "- CPU: AMD Ryzen 5 4600H\n",
    "- RAM: 16 GiB\n",
    "\n",
    "Перед замерами были закрыты все посторонние программы. Ноутбук подключен к питанию. Очисщен кэш. Частота процессора выставлена на максимум."
   ]
  },
  {
   "cell_type": "code",
   "execution_count": 4,
   "id": "27cf0d70",
   "metadata": {},
   "outputs": [],
   "source": [
    "from scipy import stats\n",
    "import numpy as np\n",
    "import matplotlib.pyplot as plt"
   ]
  },
  {
   "cell_type": "code",
   "execution_count": 5,
   "id": "c2f33fec",
   "metadata": {
    "scrolled": false
   },
   "outputs": [
    {
     "name": "stdout",
     "output_type": "stream",
     "text": [
      "[5863, 5860, 5873, 5879, 5883, 5888, 5867, 5868, 5875, 5871, 5869, 5852, 5865, 5867, 5888, 5889, 5876, 5872, 5884, 5862, 5851, 5862, 5854, 5857, 5855, 5860, 5858, 5873, 5896, 5868, 5863, 5862, 5856, 5864, 5865, 5862, 5850, 5862, 5869, 5868]\n"
     ]
    }
   ],
   "source": [
    "with open(\"out1\") as file:\n",
    "    t = [int(x) for x in file]\n",
    "print(t)"
   ]
  },
  {
   "cell_type": "markdown",
   "id": "6f8e438b",
   "metadata": {},
   "source": [
    "### Гистограмма"
   ]
  },
  {
   "cell_type": "code",
   "execution_count": 6,
   "id": "30b5c332",
   "metadata": {
    "scrolled": false
   },
   "outputs": [
    {
     "data": {
      "text/plain": [
       "(array([4., 4., 9., 8., 4., 4., 1., 2., 3., 1.]),\n",
       " array([5850. , 5854.6, 5859.2, 5863.8, 5868.4, 5873. , 5877.6, 5882.2,\n",
       "        5886.8, 5891.4, 5896. ]),\n",
       " <BarContainer object of 10 artists>)"
      ]
     },
     "execution_count": 6,
     "metadata": {},
     "output_type": "execute_result"
    },
    {
     "data": {
      "image/png": "[encoded data removed]",
      "text/plain": [
       "<Figure size 640x480 with 1 Axes>"
      ]
     },
     "metadata": {},
     "output_type": "display_data"
    }
   ],
   "source": [
    "plt.hist(t)"
   ]
  },
  {
   "cell_type": "markdown",
   "id": "a29a6802",
   "metadata": {},
   "source": [
    "### Тест на нормальнось\n",
    "#### pvalue > 0.05. ОК"
   ]
  },
  {
   "cell_type": "code",
   "execution_count": 7,
   "id": "1978c62e",
   "metadata": {},
   "outputs": [
    {
     "data": {
      "text/plain": [
       "NormaltestResult(statistic=3.680441079018311, pvalue=0.158782404451693)"
      ]
     },
     "execution_count": 7,
     "metadata": {},
     "output_type": "execute_result"
    }
   ],
   "source": [
    "stats.normaltest(t)"
   ]
  },
  {
   "cell_type": "code",
   "execution_count": 8,
   "id": "f4c64f0c",
   "metadata": {},
   "outputs": [
    {
     "data": {
      "text/plain": [
       "ShapiroResult(statistic=0.9507657289505005, pvalue=0.0805753618478775)"
      ]
     },
     "execution_count": 8,
     "metadata": {},
     "output_type": "execute_result"
    }
   ],
   "source": [
    "stats.shapiro(t)"
   ]
  },
  {
   "cell_type": "markdown",
   "id": "2b0432ae",
   "metadata": {},
   "source": [
    "### Среднее"
   ]
  },
  {
   "cell_type": "code",
   "execution_count": 9,
   "id": "8471a6e0",
   "metadata": {},
   "outputs": [
    {
     "name": "stdout",
     "output_type": "stream",
     "text": [
      "5867.65\n"
     ]
    }
   ],
   "source": [
    "mean = np.mean(t)\n",
    "print(mean)"
   ]
  },
  {
   "cell_type": "markdown",
   "id": "9d4a2d60",
   "metadata": {},
   "source": [
    "### Стандартное отклонение"
   ]
  },
  {
   "cell_type": "code",
   "execution_count": 10,
   "id": "bc00fcf3",
   "metadata": {
    "scrolled": true
   },
   "outputs": [
    {
     "name": "stdout",
     "output_type": "stream",
     "text": [
      "11.099896049409306\n"
     ]
    }
   ],
   "source": [
    "std = np.std(t, ddof = 1)\n",
    "print(std)"
   ]
  },
  {
   "cell_type": "markdown",
   "id": "310b1462",
   "metadata": {},
   "source": [
    "### Стандартное отклонение среднего"
   ]
  },
  {
   "cell_type": "code",
   "execution_count": 11,
   "id": "737e30f2",
   "metadata": {},
   "outputs": [
    {
     "name": "stdout",
     "output_type": "stream",
     "text": [
      "1.7550476653619147\n"
     ]
    }
   ],
   "source": [
    "std_mean = std / (len(t) ** 0.5)\n",
    "print(std_mean)"
   ]
  },
  {
   "cell_type": "markdown",
   "id": "23816219",
   "metadata": {},
   "source": [
    "### 2 с.о"
   ]
  },
  {
   "cell_type": "code",
   "execution_count": 12,
   "id": "17fdc3bd",
   "metadata": {},
   "outputs": [
    {
     "data": {
      "text/plain": [
       "22.199792098818612"
      ]
     },
     "execution_count": 12,
     "metadata": {},
     "output_type": "execute_result"
    }
   ],
   "source": [
    "2 * std"
   ]
  },
  {
   "cell_type": "markdown",
   "id": "4cd177ce",
   "metadata": {},
   "source": [
    "### 2 c.o.c"
   ]
  },
  {
   "cell_type": "code",
   "execution_count": 13,
   "id": "abbff498",
   "metadata": {},
   "outputs": [
    {
     "data": {
      "text/plain": [
       "3.5100953307238294"
      ]
     },
     "execution_count": 13,
     "metadata": {},
     "output_type": "execute_result"
    }
   ],
   "source": [
    "2 * std_mean"
   ]
  },
  {
   "cell_type": "markdown",
   "id": "951c9f7d",
   "metadata": {},
   "source": [
    "### Предсказывающий интервал"
   ]
  },
  {
   "cell_type": "markdown",
   "id": "80ee87ba",
   "metadata": {},
   "source": [
    "Округляем 2 с.о: 20"
   ]
  },
  {
   "cell_type": "markdown",
   "id": "62eabd8a",
   "metadata": {},
   "source": [
    "Интервал: 5870 +- 20"
   ]
  },
  {
   "cell_type": "markdown",
   "id": "d18d50d1",
   "metadata": {},
   "source": [
    "### Доверительный интервал"
   ]
  },
  {
   "cell_type": "markdown",
   "id": "59fc0d98",
   "metadata": {},
   "source": [
    "Округляем 2 с.о.с: 4"
   ]
  },
  {
   "cell_type": "markdown",
   "id": "e0035b9e",
   "metadata": {},
   "source": [
    "Интервал: 5868 +- 4"
   ]
  },
  {
   "cell_type": "code",
   "execution_count": null,
   "id": "8bf041e8",
   "metadata": {},
   "outputs": [],
   "source": []
  }
 ],
 "metadata": {
  "kernelspec": {
   "display_name": "Python 3 (ipykernel)",
   "language": "python",
   "name": "python3"
  },
  "language_info": {
   "codemirror_mode": {
    "name": "ipython",
    "version": 3
   },
   "file_extension": ".py",
   "mimetype": "text/x-python",
   "name": "python",
   "nbconvert_exporter": "python",
   "pygments_lexer": "ipython3",
   "version": "3.10.6"
  }
 },
 "nbformat": 4,
 "nbformat_minor": 5
}
