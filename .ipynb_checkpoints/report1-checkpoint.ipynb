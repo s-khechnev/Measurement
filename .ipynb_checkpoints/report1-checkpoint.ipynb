{
 "cells": [
  {
   "cell_type": "markdown",
   "id": "805302ee",
   "metadata": {},
   "source": [
    "# Отчёт\n",
    "## Эксперимент проводился на ноутбуке Lenovo IdeaPad Gaming 3 15ARH05\n",
    "- OS: ubuntu 20.04\n",
    "- CPU: AMD Ryzen 5 4600H\n",
    "- RAM: 16 GiB\n",
    "\n",
    "Перед замерами были закрыты все посторонние программы. Ноутбук подключен к питанию. Очисщен кэш. Частота процессора выставлена на максимум."
   ]
  },
  {
   "cell_type": "code",
   "execution_count": 1,
   "id": "27cf0d70",
   "metadata": {},
   "outputs": [],
   "source": [
    "from scipy import stats\n",
    "import numpy as np\n",
    "import matplotlib.pyplot as plt"
   ]
  },
  {
   "cell_type": "code",
   "execution_count": 2,
   "id": "c2f33fec",
   "metadata": {
    "scrolled": false
   },
   "outputs": [
    {
     "ename": "FileNotFoundError",
     "evalue": "[Errno 2] No such file or directory: 'out'",
     "output_type": "error",
     "traceback": [
      "\u001b[0;31m---------------------------------------------------------------------------\u001b[0m",
      "\u001b[0;31mFileNotFoundError\u001b[0m                         Traceback (most recent call last)",
      "Cell \u001b[0;32mIn[2], line 1\u001b[0m\n\u001b[0;32m----> 1\u001b[0m \u001b[38;5;28;01mwith\u001b[39;00m \u001b[38;5;28;43mopen\u001b[39;49m\u001b[43m(\u001b[49m\u001b[38;5;124;43m\"\u001b[39;49m\u001b[38;5;124;43mout\u001b[39;49m\u001b[38;5;124;43m\"\u001b[39;49m\u001b[43m)\u001b[49m \u001b[38;5;28;01mas\u001b[39;00m file:\n\u001b[1;32m      2\u001b[0m     t \u001b[38;5;241m=\u001b[39m [\u001b[38;5;28mint\u001b[39m(x) \u001b[38;5;28;01mfor\u001b[39;00m x \u001b[38;5;129;01min\u001b[39;00m file]\n\u001b[1;32m      3\u001b[0m \u001b[38;5;28mprint\u001b[39m(t)\n",
      "File \u001b[0;32m~/.local/lib/python3.10/site-packages/IPython/core/interactiveshell.py:284\u001b[0m, in \u001b[0;36m_modified_open\u001b[0;34m(file, *args, **kwargs)\u001b[0m\n\u001b[1;32m    277\u001b[0m \u001b[38;5;28;01mif\u001b[39;00m file \u001b[38;5;129;01min\u001b[39;00m {\u001b[38;5;241m0\u001b[39m, \u001b[38;5;241m1\u001b[39m, \u001b[38;5;241m2\u001b[39m}:\n\u001b[1;32m    278\u001b[0m     \u001b[38;5;28;01mraise\u001b[39;00m \u001b[38;5;167;01mValueError\u001b[39;00m(\n\u001b[1;32m    279\u001b[0m         \u001b[38;5;124mf\u001b[39m\u001b[38;5;124m\"\u001b[39m\u001b[38;5;124mIPython won\u001b[39m\u001b[38;5;124m'\u001b[39m\u001b[38;5;124mt let you open fd=\u001b[39m\u001b[38;5;132;01m{\u001b[39;00mfile\u001b[38;5;132;01m}\u001b[39;00m\u001b[38;5;124m by default \u001b[39m\u001b[38;5;124m\"\u001b[39m\n\u001b[1;32m    280\u001b[0m         \u001b[38;5;124m\"\u001b[39m\u001b[38;5;124mas it is likely to crash IPython. If you know what you are doing, \u001b[39m\u001b[38;5;124m\"\u001b[39m\n\u001b[1;32m    281\u001b[0m         \u001b[38;5;124m\"\u001b[39m\u001b[38;5;124myou can use builtins\u001b[39m\u001b[38;5;124m'\u001b[39m\u001b[38;5;124m open.\u001b[39m\u001b[38;5;124m\"\u001b[39m\n\u001b[1;32m    282\u001b[0m     )\n\u001b[0;32m--> 284\u001b[0m \u001b[38;5;28;01mreturn\u001b[39;00m \u001b[43mio_open\u001b[49m\u001b[43m(\u001b[49m\u001b[43mfile\u001b[49m\u001b[43m,\u001b[49m\u001b[43m \u001b[49m\u001b[38;5;241;43m*\u001b[39;49m\u001b[43margs\u001b[49m\u001b[43m,\u001b[49m\u001b[43m \u001b[49m\u001b[38;5;241;43m*\u001b[39;49m\u001b[38;5;241;43m*\u001b[39;49m\u001b[43mkwargs\u001b[49m\u001b[43m)\u001b[49m\n",
      "\u001b[0;31mFileNotFoundError\u001b[0m: [Errno 2] No such file or directory: 'out'"
     ]
    }
   ],
   "source": [
    "with open(\"out1\") as file:\n",
    "    t = [int(x) for x in file]\n",
    "print(t)"
   ]
  },
  {
   "cell_type": "markdown",
   "id": "6f8e438b",
   "metadata": {},
   "source": [
    "### Гистограмма"
   ]
  },
  {
   "cell_type": "code",
   "execution_count": null,
   "id": "30b5c332",
   "metadata": {
    "scrolled": false
   },
   "outputs": [],
   "source": [
    "plt.hist(t)"
   ]
  },
  {
   "cell_type": "markdown",
   "id": "a29a6802",
   "metadata": {},
   "source": [
    "### Тест на нормальнось\n",
    "#### pvalue > 0.05. ОК"
   ]
  },
  {
   "cell_type": "code",
   "execution_count": null,
   "id": "1978c62e",
   "metadata": {},
   "outputs": [],
   "source": [
    "stats.normaltest(t)"
   ]
  },
  {
   "cell_type": "code",
   "execution_count": 3,
   "id": "f4c64f0c",
   "metadata": {},
   "outputs": [
    {
     "ename": "NameError",
     "evalue": "name 't' is not defined",
     "output_type": "error",
     "traceback": [
      "\u001b[0;31m---------------------------------------------------------------------------\u001b[0m",
      "\u001b[0;31mNameError\u001b[0m                                 Traceback (most recent call last)",
      "Cell \u001b[0;32mIn[3], line 1\u001b[0m\n\u001b[0;32m----> 1\u001b[0m stats\u001b[38;5;241m.\u001b[39mshapiro(\u001b[43mt\u001b[49m)\n",
      "\u001b[0;31mNameError\u001b[0m: name 't' is not defined"
     ]
    }
   ],
   "source": [
    "stats.shapiro(t)"
   ]
  },
  {
   "cell_type": "markdown",
   "id": "2b0432ae",
   "metadata": {},
   "source": [
    "### Среднее"
   ]
  },
  {
   "cell_type": "code",
   "execution_count": 45,
   "id": "8471a6e0",
   "metadata": {},
   "outputs": [
    {
     "name": "stdout",
     "output_type": "stream",
     "text": [
      "5850.65\n"
     ]
    }
   ],
   "source": [
    "mean = np.mean(t)\n",
    "print(mean)"
   ]
  },
  {
   "cell_type": "markdown",
   "id": "9d4a2d60",
   "metadata": {},
   "source": [
    "### Стандартное отклонение"
   ]
  },
  {
   "cell_type": "code",
   "execution_count": 46,
   "id": "bc00fcf3",
   "metadata": {
    "scrolled": true
   },
   "outputs": [
    {
     "name": "stdout",
     "output_type": "stream",
     "text": [
      "12.654278692630776\n"
     ]
    }
   ],
   "source": [
    "std = np.std(t, ddof = 1)\n",
    "print(std)"
   ]
  },
  {
   "cell_type": "markdown",
   "id": "310b1462",
   "metadata": {},
   "source": [
    "### Стандартное отклонение среднего"
   ]
  },
  {
   "cell_type": "code",
   "execution_count": 47,
   "id": "737e30f2",
   "metadata": {},
   "outputs": [
    {
     "name": "stdout",
     "output_type": "stream",
     "text": [
      "2.000817140762551\n"
     ]
    }
   ],
   "source": [
    "std_mean = std / (len(t) ** 0.5)\n",
    "print(std_mean)"
   ]
  },
  {
   "cell_type": "markdown",
   "id": "23816219",
   "metadata": {},
   "source": [
    "### 2 с.о"
   ]
  },
  {
   "cell_type": "code",
   "execution_count": 48,
   "id": "17fdc3bd",
   "metadata": {},
   "outputs": [
    {
     "data": {
      "text/plain": [
       "25.30855738526155"
      ]
     },
     "execution_count": 48,
     "metadata": {},
     "output_type": "execute_result"
    }
   ],
   "source": [
    "2 * std"
   ]
  },
  {
   "cell_type": "markdown",
   "id": "4cd177ce",
   "metadata": {},
   "source": [
    "### 2 c.o.c"
   ]
  },
  {
   "cell_type": "code",
   "execution_count": 49,
   "id": "abbff498",
   "metadata": {},
   "outputs": [
    {
     "data": {
      "text/plain": [
       "4.001634281525102"
      ]
     },
     "execution_count": 49,
     "metadata": {},
     "output_type": "execute_result"
    }
   ],
   "source": [
    "2 * std_mean"
   ]
  },
  {
   "cell_type": "markdown",
   "id": "951c9f7d",
   "metadata": {},
   "source": [
    "### Предсказывающий интервал"
   ]
  },
  {
   "cell_type": "markdown",
   "id": "80ee87ba",
   "metadata": {},
   "source": [
    "Округляем 2 с.о: 30"
   ]
  },
  {
   "cell_type": "markdown",
   "id": "62eabd8a",
   "metadata": {},
   "source": [
    "Интервал: 5851 +- 30"
   ]
  },
  {
   "cell_type": "markdown",
   "id": "d18d50d1",
   "metadata": {},
   "source": [
    "### Доверительный интервал"
   ]
  },
  {
   "cell_type": "markdown",
   "id": "59fc0d98",
   "metadata": {},
   "source": [
    "Округляем 2 с.о.с: 4"
   ]
  },
  {
   "cell_type": "markdown",
   "id": "e0035b9e",
   "metadata": {},
   "source": [
    "Интервал: 5851 +- 4"
   ]
  }
 ],
 "metadata": {
  "kernelspec": {
   "display_name": "Python 3 (ipykernel)",
   "language": "python",
   "name": "python3"
  },
  "language_info": {
   "codemirror_mode": {
    "name": "ipython",
    "version": 3
   },
   "file_extension": ".py",
   "mimetype": "text/x-python",
   "name": "python",
   "nbconvert_exporter": "python",
   "pygments_lexer": "ipython3",
   "version": "3.10.6"
  }
 },
 "nbformat": 4,
 "nbformat_minor": 5
}
