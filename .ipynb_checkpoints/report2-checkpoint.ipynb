{
 "cells": [
  {
   "cell_type": "markdown",
   "id": "805302ee",
   "metadata": {},
   "source": [
    "# Отчёт\n",
    "## Эксперимент проводился на ноутбуке Lenovo IdeaPad Gaming 3 15ARH05\n",
    "- OS: ubuntu 20.04\n",
    "- CPU: AMD Ryzen 5 4600H\n",
    "- RAM: 16 GiB\n",
    "\n",
    "Перед замерами были закрыты все посторонние программы. Ноутбук подключен к питанию. Очисщен кэш. Частота процессора выставлена на максимум."
   ]
  },
  {
   "cell_type": "code",
   "execution_count": 40,
   "id": "27cf0d70",
   "metadata": {},
   "outputs": [],
   "source": [
    "from scipy import stats\n",
    "import numpy as np\n",
    "import matplotlib.pyplot as plt"
   ]
  },
  {
   "cell_type": "code",
   "execution_count": 41,
   "id": "c2f33fec",
   "metadata": {
    "scrolled": false
   },
   "outputs": [
    {
     "name": "stdout",
     "output_type": "stream",
     "text": [
      "[5841, 5833, 5843, 5844, 5863, 5857, 5857, 5855, 5859, 5871, 5855, 5869, 5848, 5856, 5865, 5860, 5865, 5854, 5851, 5849, 5827, 5855, 5845, 5858, 5880, 5853, 5864, 5837, 5846, 5856, 5835, 5838, 5828, 5841, 5831, 5865, 5828, 5849, 5845, 5850]\n"
     ]
    }
   ],
   "source": [
    "with open(\"out\") as file:\n",
    "    t = [int(x) for x in file]\n",
    "print(t)"
   ]
  },
  {
   "cell_type": "markdown",
   "id": "6f8e438b",
   "metadata": {},
   "source": [
    "### Гистограмма"
   ]
  },
  {
   "cell_type": "code",
   "execution_count": 42,
   "id": "30b5c332",
   "metadata": {
    "scrolled": false
   },
   "outputs": [
    {
     "data": {
      "text/plain": [
       "(array([4., 3., 3., 6., 5., 9., 4., 4., 1., 1.]),\n",
       " array([5827. , 5832.3, 5837.6, 5842.9, 5848.2, 5853.5, 5858.8, 5864.1,\n",
       "        5869.4, 5874.7, 5880. ]),\n",
       " <BarContainer object of 10 artists>)"
      ]
     },
     "execution_count": 42,
     "metadata": {},
     "output_type": "execute_result"
    },
    {
     "data": {
      "image/png": "[encoded data removed]",
      "text/plain": [
       "<Figure size 640x480 with 1 Axes>"
      ]
     },
     "metadata": {},
     "output_type": "display_data"
    }
   ],
   "source": [
    "plt.hist(t)"
   ]
  },
  {
   "cell_type": "markdown",
   "id": "a29a6802",
   "metadata": {},
   "source": [
    "### Тест на нормальнось\n",
    "#### pvalue > 0.05. ОК"
   ]
  },
  {
   "cell_type": "code",
   "execution_count": 43,
   "id": "1978c62e",
   "metadata": {},
   "outputs": [
    {
     "data": {
      "text/plain": [
       "NormaltestResult(statistic=0.20112201121806433, pvalue=0.9043299415310718)"
      ]
     },
     "execution_count": 43,
     "metadata": {},
     "output_type": "execute_result"
    }
   ],
   "source": [
    "stats.normaltest(t)"
   ]
  },
  {
   "cell_type": "code",
   "execution_count": 44,
   "id": "f4c64f0c",
   "metadata": {},
   "outputs": [
    {
     "data": {
      "text/plain": [
       "ShapiroResult(statistic=0.98177170753479, pvalue=0.7548354268074036)"
      ]
     },
     "execution_count": 44,
     "metadata": {},
     "output_type": "execute_result"
    }
   ],
   "source": [
    "stats.shapiro(t)"
   ]
  },
  {
   "cell_type": "markdown",
   "id": "2b0432ae",
   "metadata": {},
   "source": [
    "### Среднее"
   ]
  },
  {
   "cell_type": "code",
   "execution_count": 45,
   "id": "8471a6e0",
   "metadata": {},
   "outputs": [
    {
     "name": "stdout",
     "output_type": "stream",
     "text": [
      "5850.65\n"
     ]
    }
   ],
   "source": [
    "mean = np.mean(t)\n",
    "print(mean)"
   ]
  },
  {
   "cell_type": "markdown",
   "id": "9d4a2d60",
   "metadata": {},
   "source": [
    "### Стандартное отклонение"
   ]
  },
  {
   "cell_type": "code",
   "execution_count": 46,
   "id": "bc00fcf3",
   "metadata": {
    "scrolled": true
   },
   "outputs": [
    {
     "name": "stdout",
     "output_type": "stream",
     "text": [
      "12.654278692630776\n"
     ]
    }
   ],
   "source": [
    "std = np.std(t, ddof = 1)\n",
    "print(std)"
   ]
  },
  {
   "cell_type": "markdown",
   "id": "310b1462",
   "metadata": {},
   "source": [
    "### Стандартное отклонение среднего"
   ]
  },
  {
   "cell_type": "code",
   "execution_count": 47,
   "id": "737e30f2",
   "metadata": {},
   "outputs": [
    {
     "name": "stdout",
     "output_type": "stream",
     "text": [
      "2.000817140762551\n"
     ]
    }
   ],
   "source": [
    "std_mean = std / (len(t) ** 0.5)\n",
    "print(std_mean)"
   ]
  },
  {
   "cell_type": "markdown",
   "id": "23816219",
   "metadata": {},
   "source": [
    "### 2 с.о"
   ]
  },
  {
   "cell_type": "code",
   "execution_count": 48,
   "id": "17fdc3bd",
   "metadata": {},
   "outputs": [
    {
     "data": {
      "text/plain": [
       "25.30855738526155"
      ]
     },
     "execution_count": 48,
     "metadata": {},
     "output_type": "execute_result"
    }
   ],
   "source": [
    "2 * std"
   ]
  },
  {
   "cell_type": "markdown",
   "id": "4cd177ce",
   "metadata": {},
   "source": [
    "### 2 c.o.c"
   ]
  },
  {
   "cell_type": "code",
   "execution_count": 49,
   "id": "abbff498",
   "metadata": {},
   "outputs": [
    {
     "data": {
      "text/plain": [
       "4.001634281525102"
      ]
     },
     "execution_count": 49,
     "metadata": {},
     "output_type": "execute_result"
    }
   ],
   "source": [
    "2 * std_mean"
   ]
  },
  {
   "cell_type": "markdown",
   "id": "951c9f7d",
   "metadata": {},
   "source": [
    "### Предсказывающий интервал"
   ]
  },
  {
   "cell_type": "markdown",
   "id": "80ee87ba",
   "metadata": {},
   "source": [
    "Округляем 2 с.о: 30"
   ]
  },
  {
   "cell_type": "markdown",
   "id": "62eabd8a",
   "metadata": {},
   "source": [
    "Интервал: 5851 +- 30"
   ]
  },
  {
   "cell_type": "markdown",
   "id": "d18d50d1",
   "metadata": {},
   "source": [
    "### Доверительный интервал"
   ]
  },
  {
   "cell_type": "markdown",
   "id": "59fc0d98",
   "metadata": {},
   "source": [
    "Округляем 2 с.о.с: 4"
   ]
  },
  {
   "cell_type": "markdown",
   "id": "e0035b9e",
   "metadata": {},
   "source": [
    "Интервал: 5851 +- 4"
   ]
  }
 ],
 "metadata": {
  "kernelspec": {
   "display_name": "Python 3 (ipykernel)",
   "language": "python",
   "name": "python3"
  },
  "language_info": {
   "codemirror_mode": {
    "name": "ipython",
    "version": 3
   },
   "file_extension": ".py",
   "mimetype": "text/x-python",
   "name": "python",
   "nbconvert_exporter": "python",
   "pygments_lexer": "ipython3",
   "version": "3.10.6"
  }
 },
 "nbformat": 4,
 "nbformat_minor": 5
}
